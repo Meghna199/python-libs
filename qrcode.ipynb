{
 "cells": [
  {
   "cell_type": "code",
   "execution_count": 2,
   "id": "ff03e06b",
   "metadata": {},
   "outputs": [
    {
     "name": "stdout",
     "output_type": "stream",
     "text": [
      "Collecting qrcodeNote: you may need to restart the kernel to use updated packages.\n",
      "\n",
      "  Downloading qrcode-7.3.1.tar.gz (43 kB)\n",
      "Requirement already satisfied: colorama in c:\\users\\jangi\\anaconda3\\lib\\site-packages (from qrcode) (0.4.4)\n",
      "Building wheels for collected packages: qrcode\n",
      "  Building wheel for qrcode (setup.py): started\n",
      "  Building wheel for qrcode (setup.py): finished with status 'done'\n",
      "  Created wheel for qrcode: filename=qrcode-7.3.1-py3-none-any.whl size=40385 sha256=8eb5502618fb0f7f1c61b80d1cf5e3749baebc610e049364872c97725d2ad993\n",
      "  Stored in directory: c:\\users\\jangi\\appdata\\local\\pip\\cache\\wheels\\35\\fd\\04\\2768886c56207acee0d6dc6b9bd5d06dac63a810f0c0a42516\n",
      "Successfully built qrcode\n",
      "Installing collected packages: qrcode\n",
      "Successfully installed qrcode-7.3.1\n"
     ]
    }
   ],
   "source": [
    "pip install qrcode"
   ]
  },
  {
   "cell_type": "code",
   "execution_count": 2,
   "id": "1213f0c3",
   "metadata": {},
   "outputs": [],
   "source": [
    "import qrcode\n",
    "img= qrcode.make('Hello')\n",
    "img.save('myqrcode3.png')\n",
    "img.show()"
   ]
  },
  {
   "cell_type": "code",
   "execution_count": 3,
   "id": "732ad3c3",
   "metadata": {},
   "outputs": [],
   "source": [
    "data=\"hello\"\n",
    "qr = qrcode.QRCode(version = 1,\n",
    "                   box_size = 10,\n",
    "                   border = 5)\n",
    "  \n",
    "# Adding data to the instance 'qr'\n",
    "qr.add_data(data)\n",
    "  \n",
    "qr.make(fit = True)\n",
    "img = qr.make_image(fill_color = 'red',\n",
    "                    back_color = 'white')\n",
    "  \n",
    "img.save('myqrode3.png')"
   ]
  },
  {
   "cell_type": "code",
   "execution_count": null,
   "id": "59950a08",
   "metadata": {},
   "outputs": [],
   "source": []
  }
 ],
 "metadata": {
  "kernelspec": {
   "display_name": "Python 3",
   "language": "python",
   "name": "python3"
  },
  "language_info": {
   "codemirror_mode": {
    "name": "ipython",
    "version": 3
   },
   "file_extension": ".py",
   "mimetype": "text/x-python",
   "name": "python",
   "nbconvert_exporter": "python",
   "pygments_lexer": "ipython3",
   "version": "3.8.8"
  }
 },
 "nbformat": 4,
 "nbformat_minor": 5
}
